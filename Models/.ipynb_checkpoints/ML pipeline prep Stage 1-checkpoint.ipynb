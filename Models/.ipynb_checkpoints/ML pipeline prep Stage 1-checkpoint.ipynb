{
 "cells": [
  {
   "cell_type": "markdown",
   "metadata": {},
   "source": [
    "# ML Pipeline Preparation\n",
    "Follow the instructions below to help you create your ML pipeline.\n",
    "### 1. Import libraries and load data from database.\n",
    "- Import Python libraries\n",
    "- Load dataset from database with [`read_sql_table`](https://pandas.pydata.org/pandas-docs/stable/generated/pandas.read_sql_table.html)\n",
    "- Define feature and target variables X and Y"
   ]
  },
  {
   "cell_type": "code",
   "execution_count": 116,
   "metadata": {},
   "outputs": [
    {
     "name": "stderr",
     "output_type": "stream",
     "text": [
      "[nltk_data] Downloading package punkt to\n",
      "[nltk_data]     C:\\Users\\Joykaus\\AppData\\Roaming\\nltk_data...\n",
      "[nltk_data]   Package punkt is already up-to-date!\n",
      "[nltk_data] Downloading package stopwords to\n",
      "[nltk_data]     C:\\Users\\Joykaus\\AppData\\Roaming\\nltk_data...\n",
      "[nltk_data]   Package stopwords is already up-to-date!\n",
      "[nltk_data] Downloading package wordnet to\n",
      "[nltk_data]     C:\\Users\\Joykaus\\AppData\\Roaming\\nltk_data...\n",
      "[nltk_data]   Package wordnet is already up-to-date!\n",
      "[nltk_data] Downloading package averaged_perceptron_tagger to\n",
      "[nltk_data]     C:\\Users\\Joykaus\\AppData\\Roaming\\nltk_data...\n",
      "[nltk_data]   Package averaged_perceptron_tagger is already up-to-\n",
      "[nltk_data]       date!\n"
     ]
    }
   ],
   "source": [
    "# import libraries\n",
    "import time\n",
    "import re\n",
    "import nltk\n",
    "import pickle\n",
    "import pandas as pd\n",
    "import numpy as np\n",
    "\n",
    "from sqlalchemy import create_engine\n",
    "from nltk.tokenize import word_tokenize\n",
    "from nltk.corpus import stopwords, wordnet\n",
    "from nltk.stem.wordnet import WordNetLemmatizer\n",
    "from sklearn.metrics import precision_recall_fscore_support\n",
    "from nltk.stem.porter import PorterStemmer\n",
    "from sklearn.feature_extraction.text import CountVectorizer, TfidfTransformer\n",
    "from sklearn.pipeline import Pipeline\n",
    "from sklearn.multioutput import MultiOutputClassifier\n",
    "from sklearn.ensemble import RandomForestClassifier\n",
    "from sklearn.model_selection import train_test_split, GridSearchCV\n",
    "from sklearn.metrics import classification_report\n",
    "from sklearn.naive_bayes import MultinomialNB\n",
    "from sklearn.svm import SVC\n",
    "\n",
    "nltk.download('punkt')\n",
    "nltk.download('stopwords')\n",
    "nltk.download('wordnet')\n",
    "nltk.download('averaged_perceptron_tagger')\n",
    "\n",
    "import warnings\n",
    "warnings.simplefilter('ignore')"
   ]
  },
  {
   "cell_type": "code",
   "execution_count": 18,
   "metadata": {},
   "outputs": [],
   "source": [
    "# load data from database\n",
    "engine = create_engine('sqlite:///Disasters.db')\n",
    "df = pd.read_sql_table('Disasters', con=engine)\n"
   ]
  },
  {
   "cell_type": "code",
   "execution_count": 19,
   "metadata": {},
   "outputs": [
    {
     "data": {
      "text/html": [
       "<div>\n",
       "<style scoped>\n",
       "    .dataframe tbody tr th:only-of-type {\n",
       "        vertical-align: middle;\n",
       "    }\n",
       "\n",
       "    .dataframe tbody tr th {\n",
       "        vertical-align: top;\n",
       "    }\n",
       "\n",
       "    .dataframe thead th {\n",
       "        text-align: right;\n",
       "    }\n",
       "</style>\n",
       "<table border=\"1\" class=\"dataframe\">\n",
       "  <thead>\n",
       "    <tr style=\"text-align: right;\">\n",
       "      <th></th>\n",
       "      <th>id</th>\n",
       "      <th>message</th>\n",
       "      <th>original</th>\n",
       "      <th>genre</th>\n",
       "      <th>related</th>\n",
       "      <th>request</th>\n",
       "      <th>offer</th>\n",
       "      <th>aid_related</th>\n",
       "      <th>medical_help</th>\n",
       "      <th>medical_products</th>\n",
       "      <th>...</th>\n",
       "      <th>aid_centers</th>\n",
       "      <th>other_infrastructure</th>\n",
       "      <th>weather_related</th>\n",
       "      <th>floods</th>\n",
       "      <th>storm</th>\n",
       "      <th>fire</th>\n",
       "      <th>earthquake</th>\n",
       "      <th>cold</th>\n",
       "      <th>other_weather</th>\n",
       "      <th>direct_report</th>\n",
       "    </tr>\n",
       "  </thead>\n",
       "  <tbody>\n",
       "    <tr>\n",
       "      <th>0</th>\n",
       "      <td>2</td>\n",
       "      <td>Weather update - a cold front from Cuba that c...</td>\n",
       "      <td>Un front froid se retrouve sur Cuba ce matin. ...</td>\n",
       "      <td>direct</td>\n",
       "      <td>1</td>\n",
       "      <td>0</td>\n",
       "      <td>0</td>\n",
       "      <td>0</td>\n",
       "      <td>0</td>\n",
       "      <td>0</td>\n",
       "      <td>...</td>\n",
       "      <td>0</td>\n",
       "      <td>0</td>\n",
       "      <td>0</td>\n",
       "      <td>0</td>\n",
       "      <td>0</td>\n",
       "      <td>0</td>\n",
       "      <td>0</td>\n",
       "      <td>0</td>\n",
       "      <td>0</td>\n",
       "      <td>0</td>\n",
       "    </tr>\n",
       "    <tr>\n",
       "      <th>1</th>\n",
       "      <td>7</td>\n",
       "      <td>Is the Hurricane over or is it not over</td>\n",
       "      <td>Cyclone nan fini osinon li pa fini</td>\n",
       "      <td>direct</td>\n",
       "      <td>1</td>\n",
       "      <td>0</td>\n",
       "      <td>0</td>\n",
       "      <td>1</td>\n",
       "      <td>0</td>\n",
       "      <td>0</td>\n",
       "      <td>...</td>\n",
       "      <td>0</td>\n",
       "      <td>0</td>\n",
       "      <td>1</td>\n",
       "      <td>0</td>\n",
       "      <td>1</td>\n",
       "      <td>0</td>\n",
       "      <td>0</td>\n",
       "      <td>0</td>\n",
       "      <td>0</td>\n",
       "      <td>0</td>\n",
       "    </tr>\n",
       "  </tbody>\n",
       "</table>\n",
       "<p>2 rows × 40 columns</p>\n",
       "</div>"
      ],
      "text/plain": [
       "   id                                            message  \\\n",
       "0   2  Weather update - a cold front from Cuba that c...   \n",
       "1   7            Is the Hurricane over or is it not over   \n",
       "\n",
       "                                            original   genre  related  \\\n",
       "0  Un front froid se retrouve sur Cuba ce matin. ...  direct        1   \n",
       "1                 Cyclone nan fini osinon li pa fini  direct        1   \n",
       "\n",
       "   request  offer  aid_related  medical_help  medical_products  ...  \\\n",
       "0        0      0            0             0                 0  ...   \n",
       "1        0      0            1             0                 0  ...   \n",
       "\n",
       "   aid_centers  other_infrastructure  weather_related  floods  storm  fire  \\\n",
       "0            0                     0                0       0      0     0   \n",
       "1            0                     0                1       0      1     0   \n",
       "\n",
       "   earthquake  cold  other_weather  direct_report  \n",
       "0           0     0              0              0  \n",
       "1           0     0              0              0  \n",
       "\n",
       "[2 rows x 40 columns]"
      ]
     },
     "execution_count": 19,
     "metadata": {},
     "output_type": "execute_result"
    }
   ],
   "source": [
    "# Have a look at the dataframe df\n",
    "df.head(2)"
   ]
  },
  {
   "cell_type": "code",
   "execution_count": 84,
   "metadata": {},
   "outputs": [],
   "source": [
    "# Define X and Y (feature and target variables)\n",
    "X = df['message']\n",
    "Y = df.drop(['id', 'message', 'original', 'genre'], axis=1)"
   ]
  },
  {
   "cell_type": "markdown",
   "metadata": {},
   "source": [
    "### 2. Write a tokenization function to process your text data"
   ]
  },
  {
   "cell_type": "code",
   "execution_count": 85,
   "metadata": {},
   "outputs": [],
   "source": [
    "def tokenize(text):\n",
    "    \"\"\"\n",
    "    Tokenize function\n",
    "    \n",
    "    Arguments:\n",
    "        text -> list of text messages (english)\n",
    "    Output:\n",
    "        clean_tokens -> tokenized text, clean for ML modeling\n",
    "    \"\"\"\n",
    "    url_regex = 'http[s]?://(?:[a-zA-Z]|[0-9]|[$-_@.&+]|[!*\\(\\),]|(?:%[0-9a-fA-F][0-9a-fA-F]))+'\n",
    "    detected_urls = re.findall(url_regex, text)\n",
    "    for url in detected_urls:\n",
    "        text = text.replace(url, \"urlplaceholder\")\n",
    "\n",
    "    tokens = word_tokenize(text)\n",
    "    lemmatizer = WordNetLemmatizer()\n",
    "\n",
    "    clean_tokens = []\n",
    "    for tok in tokens:\n",
    "        clean_tok = lemmatizer.lemmatize(tok).lower().strip()\n",
    "        clean_tokens.append(clean_tok)\n",
    "\n",
    "    return clean_tokens"
   ]
  },
  {
   "cell_type": "markdown",
   "metadata": {},
   "source": [
    "### 3. Build a machine learning pipeline\n",
    "This machine pipeline should take in the `message` column as input and output classification results on the other 36 categories in the dataset. You may find the [MultiOutputClassifier](http://scikit-learn.org/stable/modules/generated/sklearn.multioutput.MultiOutputClassifier.html) helpful for predicting multiple target variables."
   ]
  },
  {
   "cell_type": "code",
   "execution_count": 86,
   "metadata": {},
   "outputs": [],
   "source": [
    "# Create pipeline with Classifier\n",
    "pipeline1 = Pipeline([\n",
    "    ('vect', CountVectorizer(tokenizer = tokenize)),\n",
    "    ('tfidf', TfidfTransformer()),\n",
    "    ('clf', MultiOutputClassifier(RandomForestClassifier()))\n",
    "])"
   ]
  },
  {
   "cell_type": "markdown",
   "metadata": {},
   "source": [
    "### 4. Train pipeline\n",
    "- Split data into train and test sets\n",
    "- Train pipeline"
   ]
  },
  {
   "cell_type": "code",
   "execution_count": 87,
   "metadata": {},
   "outputs": [
    {
     "name": "stdout",
     "output_type": "stream",
     "text": [
      "695.8895423412323\n"
     ]
    }
   ],
   "source": [
    "# Split the data to training and testing datasets\n",
    "X_train, X_test, y_train, y_test = train_test_split(X, Y)\n",
    "\n",
    "start = time.time()\n",
    "\n",
    "# Train model\n",
    "pipeline1.fit(X_train, y_train)\n",
    "\n",
    "end = time.time()\n",
    "train_time1 = end - start\n",
    "print(train_time1)"
   ]
  },
  {
   "cell_type": "markdown",
   "metadata": {},
   "source": [
    "### 5. Test your model\n",
    "Report the f1 score, precision and recall for each output category of the dataset. You can do this by iterating through the columns and calling sklearn's `classification_report` on each."
   ]
  },
  {
   "cell_type": "code",
   "execution_count": 88,
   "metadata": {},
   "outputs": [
    {
     "name": "stdout",
     "output_type": "stream",
     "text": [
      "53.417754888534546\n"
     ]
    }
   ],
   "source": [
    "# Predict the values using model\n",
    "start = time.time()\n",
    "\n",
    "y_pred1 = pipeline1.predict(X_test)\n",
    "\n",
    "end = time.time()\n",
    "pred_time1 = end - start\n",
    "print(pred_time1)"
   ]
  },
  {
   "cell_type": "code",
   "execution_count": 124,
   "metadata": {},
   "outputs": [
    {
     "name": "stdout",
     "output_type": "stream",
     "text": [
      "                        Accuracy  Precision  Recall  F-score\n",
      "related                    81.96      80.92   81.96    80.23\n",
      "request                    89.96      89.44   89.96    88.87\n",
      "offer                      99.55      99.11   99.55    99.33\n",
      "aid_related                78.42      78.28   78.42    78.28\n",
      "medical_help               92.29      90.27   92.29    89.50\n",
      "medical_products           95.22      94.75   95.22    93.25\n",
      "search_and_rescue          97.63      96.68   97.63    96.62\n",
      "security                   98.35      98.37   98.35    97.55\n",
      "military                   96.91      95.79   96.91    95.70\n",
      "child_alone               100.00     100.00  100.00   100.00\n",
      "water                      96.23      95.99   96.23    95.65\n",
      "food                       94.23      93.93   94.23    93.73\n",
      "shelter                    93.85      93.41   93.85    92.63\n",
      "clothing                   98.48      98.00   98.48    97.88\n",
      "money                      97.90      97.69   97.90    96.98\n",
      "missing_people             98.82      98.83   98.82    98.25\n",
      "refugees                   96.78      95.61   96.78    95.27\n",
      "death                      95.89      95.66   95.89    94.46\n",
      "other_aid                  87.19      83.98   87.19    82.19\n",
      "infrastructure_related     93.17      86.93   93.17    89.94\n",
      "transport                  95.94      95.51   95.94    94.30\n",
      "buildings                  95.42      94.87   95.42    93.80\n",
      "electricity                97.81      97.32   97.81    96.79\n",
      "tools                      99.40      98.81   99.40    99.10\n",
      "hospitals                  98.88      97.78   98.88    98.33\n",
      "shops                      99.52      99.05   99.52    99.29\n",
      "aid_centers                98.90      97.81   98.90    98.35\n",
      "other_infrastructure       95.43      92.28   95.43    93.26\n",
      "weather_related            87.88      87.71   87.88    87.45\n",
      "floods                     95.31      95.17   95.31    94.62\n",
      "storm                      94.07      93.56   94.07    93.52\n",
      "fire                       98.99      99.00   98.99    98.50\n",
      "earthquake                 97.08      96.98   97.08    97.00\n",
      "cold                       98.27      98.05   98.27    97.65\n",
      "other_weather              94.44      92.42   94.44    92.12\n",
      "direct_report              86.17      85.31   86.17    84.07\n"
     ]
    }
   ],
   "source": [
    "accuracy = [[(y_pred1[:, i] == y_test.values[:, i]).mean(),\n",
    "             *precision_recall_fscore_support(\n",
    "                 y_test.values[:, i], y_pred1[:, i], average='weighted')]\n",
    "            for i in range(y_pred1.shape[1])]\n",
    "accuracy = np.array(accuracy)[:, :-1]\n",
    "accuracy = (accuracy * 10000).astype(int) / 100\n",
    "scores1= pd.DataFrame(\n",
    "    data=accuracy,\n",
    "    index=list(y_test),\n",
    "    columns=['Accuracy', 'Precision', 'Recall', 'F-score'])\n",
    "print(scores1)"
   ]
  },
  {
   "cell_type": "markdown",
   "metadata": {},
   "source": [
    "### 6. Improve your model\n",
    "Use grid search to find better parameters. "
   ]
  },
  {
   "cell_type": "code",
   "execution_count": 112,
   "metadata": {},
   "outputs": [
    {
     "data": {
      "text/plain": [
       "\"\\n# Use grid search to find fine tune your model \\n\\nparameters = {\\n   'clf__estimator__n_estimators': [10, 100],\\n   'clf__estimator__min_samples_split': [2, 5]\\n}\\n\\ncv = GridSearchCV(pipeline1, param_grid=parameters, verbose=1)\\ncv.fit(X_train, y_train)\\ny_pred_cv = cv.predict(X_test)\\n\\n\""
      ]
     },
     "execution_count": 112,
     "metadata": {},
     "output_type": "execute_result"
    }
   ],
   "source": [
    "\n",
    "# Use grid search to find fine tune your model \n",
    "\n",
    "parameters = {\n",
    "    'clf__estimator__n_estimators': [10, 100],\n",
    "    'clf__estimator__min_samples_split': [2, 5]\n",
    "}\n",
    "\n",
    "cv = GridSearchCV(pipeline1, param_grid=parameters, verbose=1)\n",
    "cv.fit(X_train, y_train)\n",
    "y_pred_cv = cv.predict(X_test)\n"
   ]
  },
  {
   "cell_type": "code",
   "execution_count": null,
   "metadata": {},
   "outputs": [],
   "source": [
    "#Display results of gridsearch\n",
    "\n",
    "pd.DataFrame.from_dict(cv.cv_results_)"
   ]
  },
  {
   "cell_type": "markdown",
   "metadata": {},
   "source": [
    "### 7. Test your model\n",
    "Show the accuracy, precision, and recall of the tuned model.  \n",
    "\n",
    "Since this project focuses on code quality, process, and  pipelines, there is no minimum performance metric needed to pass. However, make sure to fine tune your models for accuracy, precision and recall to make your project stand out - especially for your portfolio!"
   ]
  },
  {
   "cell_type": "code",
   "execution_count": 99,
   "metadata": {},
   "outputs": [
    {
     "data": {
      "text/plain": [
       "Pipeline(memory=None,\n",
       "         steps=[('vect',\n",
       "                 CountVectorizer(analyzer='word', binary=False,\n",
       "                                 decode_error='strict',\n",
       "                                 dtype=<class 'numpy.int64'>, encoding='utf-8',\n",
       "                                 input='content', lowercase=True, max_df=1.0,\n",
       "                                 max_features=None, min_df=1,\n",
       "                                 ngram_range=(1, 1), preprocessor=None,\n",
       "                                 stop_words=None, strip_accents=None,\n",
       "                                 token_pattern='(?u)\\\\b\\\\w\\\\w+\\\\b',\n",
       "                                 tokenizer=<function tokenize at...\n",
       "                                                                        ccp_alpha=0.0,\n",
       "                                                                        class_weight=None,\n",
       "                                                                        criterion='gini',\n",
       "                                                                        max_depth=None,\n",
       "                                                                        max_features='auto',\n",
       "                                                                        max_leaf_nodes=None,\n",
       "                                                                        max_samples=None,\n",
       "                                                                        min_impurity_decrease=0.0,\n",
       "                                                                        min_impurity_split=None,\n",
       "                                                                        min_samples_leaf=1,\n",
       "                                                                        min_samples_split=2,\n",
       "                                                                        min_weight_fraction_leaf=0.0,\n",
       "                                                                        n_estimators=100,\n",
       "                                                                        n_jobs=None,\n",
       "                                                                        oob_score=False,\n",
       "                                                                        random_state=None,\n",
       "                                                                        verbose=0,\n",
       "                                                                        warm_start=False),\n",
       "                                       n_jobs=None))],\n",
       "         verbose=False)"
      ]
     },
     "execution_count": 99,
     "metadata": {},
     "output_type": "execute_result"
    }
   ],
   "source": [
    "# Determining the best estimators of grid search\n",
    "cv.best_estimator_"
   ]
  },
  {
   "cell_type": "code",
   "execution_count": 126,
   "metadata": {},
   "outputs": [
    {
     "name": "stdout",
     "output_type": "stream",
     "text": [
      "                        Accuracy  Precision  Recall  F-score\n",
      "related                    67.68      62.31   67.68    64.45\n",
      "request                    76.48      72.18   76.48    74.12\n",
      "offer                      99.55      99.11   99.55    99.33\n",
      "aid_related                52.10      51.45   52.10    51.71\n",
      "medical_help               91.08      85.09   91.08    87.81\n",
      "medical_products           94.17      90.08   94.17    92.08\n",
      "search_and_rescue          97.34      95.42   97.34    96.33\n",
      "security                   98.33      96.70   98.33    97.51\n",
      "military                   96.61      94.01   96.61    95.23\n",
      "child_alone               100.00     100.00  100.00   100.00\n",
      "water                      90.90      87.95   90.90    89.39\n",
      "food                       82.80      79.90   82.80    81.27\n",
      "shelter                    88.03      84.26   88.03    86.02\n",
      "clothing                   98.21      96.90   98.21    97.55\n",
      "money                      97.72      95.68   97.72    96.69\n",
      "missing_people             98.80      97.63   98.80    98.21\n",
      "refugees                   96.65      93.63   96.65    95.12\n",
      "death                      94.38      90.90   94.38    92.56\n",
      "other_aid                  86.34      78.09   86.34    80.92\n",
      "infrastructure_related     93.16      86.93   93.16    89.94\n",
      "transport                  95.20      91.76   95.20    93.35\n",
      "buildings                  94.30      90.52   94.30    92.22\n",
      "electricity                97.71      95.62   97.71    96.65\n",
      "tools                      99.40      98.81   99.40    99.10\n",
      "hospitals                  98.88      97.78   98.88    98.33\n",
      "shops                      99.52      99.05   99.52    99.29\n",
      "aid_centers                98.90      97.81   98.90    98.35\n",
      "other_infrastructure       95.39      91.13   95.39    93.21\n",
      "weather_related            61.58      59.74   61.58    60.57\n",
      "floods                     87.54      84.67   87.54    86.04\n",
      "storm                      85.15      82.76   85.15    83.90\n",
      "fire                       98.97      97.96   98.97    98.46\n",
      "earthquake                 83.62      82.67   83.62    83.14\n",
      "cold                       97.83      96.15   97.83    96.98\n",
      "other_weather              94.09      89.59   94.09    91.58\n",
      "direct_report              75.60      69.51   75.60    71.99\n"
     ]
    }
   ],
   "source": [
    "accuracy_cv = [[(y_pred_cv[:, i] == y_test.values[:, i]).mean(),\n",
    "             *precision_recall_fscore_support(\n",
    "                 y_test.values[:, i], y_pred_cv[:, i], average='weighted')]\n",
    "            for i in range(y_pred_cv.shape[1])]\n",
    "accuracy_cv = np.array(accuracy_cv)[:, :-1]\n",
    "accuracy_cv = (accuracy_cv * 10000).astype(int) / 100\n",
    "scores_cv=pd.DataFrame(\n",
    "    data=accuracy_cv,\n",
    "    index=list(y_test),\n",
    "    columns=['Accuracy', 'Precision', 'Recall', 'F-score'])\n",
    "print(scores_cv)"
   ]
  },
  {
   "cell_type": "code",
   "execution_count": 128,
   "metadata": {},
   "outputs": [
    {
     "name": "stdout",
     "output_type": "stream",
     "text": [
      "related                   15.78\n",
      "request                   14.75\n",
      "offer                      0.00\n",
      "aid_related               26.57\n",
      "medical_help               1.69\n",
      "medical_products           1.17\n",
      "search_and_rescue          0.29\n",
      "security                   0.04\n",
      "military                   0.47\n",
      "child_alone                0.00\n",
      "water                      6.26\n",
      "food                      12.46\n",
      "shelter                    6.61\n",
      "clothing                   0.33\n",
      "money                      0.29\n",
      "missing_people             0.04\n",
      "refugees                   0.15\n",
      "death                      1.90\n",
      "other_aid                  1.27\n",
      "infrastructure_related     0.00\n",
      "transport                  0.95\n",
      "buildings                  1.58\n",
      "electricity                0.14\n",
      "tools                      0.00\n",
      "hospitals                  0.00\n",
      "shops                      0.00\n",
      "aid_centers                0.00\n",
      "other_infrastructure       0.05\n",
      "weather_related           26.88\n",
      "floods                     8.58\n",
      "storm                      9.62\n",
      "fire                       0.04\n",
      "earthquake                13.86\n",
      "cold                       0.67\n",
      "other_weather              0.54\n",
      "direct_report             12.08\n",
      "Name: F-score, dtype: float64\n"
     ]
    }
   ],
   "source": [
    "#difference in f scores of base model and improved model\n",
    "print(scores1['F-score']-scores_cv['F-score'])"
   ]
  },
  {
   "cell_type": "markdown",
   "metadata": {},
   "source": [
    "The default model fares better than improved model as the f-scores are higher for default model."
   ]
  },
  {
   "cell_type": "markdown",
   "metadata": {},
   "source": [
    "### 8. Try improving your model further. Here are a few ideas:\n",
    "* try other machine learning algorithms\n",
    "* add other features besides the TF-IDF"
   ]
  },
  {
   "cell_type": "markdown",
   "metadata": {},
   "source": [
    "### 9. Export your model as a pickle file"
   ]
  },
  {
   "cell_type": "code",
   "execution_count": 114,
   "metadata": {},
   "outputs": [],
   "source": [
    "pickle.dump(pipeline1, open('disaster_message_model.sav', 'wb'))"
   ]
  },
  {
   "cell_type": "markdown",
   "metadata": {},
   "source": [
    "### 10. Use this notebook to complete `train.py`\n",
    "Use the template file attached in the Resources folder to write a script that runs the steps above to create a database and export a model based on a new dataset specified by the user."
   ]
  },
  {
   "cell_type": "code",
   "execution_count": null,
   "metadata": {},
   "outputs": [],
   "source": []
  },
  {
   "cell_type": "code",
   "execution_count": null,
   "metadata": {},
   "outputs": [],
   "source": []
  },
  {
   "cell_type": "code",
   "execution_count": null,
   "metadata": {},
   "outputs": [],
   "source": []
  }
 ],
 "metadata": {
  "kernelspec": {
   "display_name": "Python 3",
   "language": "python",
   "name": "python3"
  },
  "language_info": {
   "codemirror_mode": {
    "name": "ipython",
    "version": 3
   },
   "file_extension": ".py",
   "mimetype": "text/x-python",
   "name": "python",
   "nbconvert_exporter": "python",
   "pygments_lexer": "ipython3",
   "version": "3.7.6"
  }
 },
 "nbformat": 4,
 "nbformat_minor": 2
}
